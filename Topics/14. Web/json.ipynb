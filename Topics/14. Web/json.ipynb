{
 "cells": [
  {
   "cell_type": "markdown",
   "metadata": {},
   "source": [
    "# JSON (JavaScript Object Notation)\n",
    "\n",
    "Specified by [RFC 7159](https://tools.ietf.org/html/rfc7159.html) and by [ECMA-404](http://www.ecma-international.org/publications/standards/Ecma-404.htm) is a lightweight data interchange format inspired by JavaScript object literal syntax (althoug it is not a strict subset of JavaScript).\n",
    "\n",
    "``` json\n",
    "{\n",
    "    \"firstName\": \"Jane\",\n",
    "    \"lastName\": \"Doe\",\n",
    "    \"hobbies\": [\"running\", \"sky diving\", \"singing\"],\n",
    "    \"age\": 35,\n",
    "    \"children\": [\n",
    "        {\n",
    "            \"firstName\": \"Alice\",\n",
    "            \"age\": 6\n",
    "        },\n",
    "        {\n",
    "            \"firstName\": \"Bob\",\n",
    "            \"age\": 8\n",
    "        }\n",
    "    ]\n",
    "}\n",
    "```\n",
    "\n",
    "The process of encoding JSON is usually called serialization. This term refers to the transformation of data into a series of bytes to be stored or transmitted accross a network. Naturally, \n",
    "deserialization is the reciprocal process of decoding data that has been stored or delivered in the JSON standard.\n",
    "\n",
    "Python comes with a built-in package called `json` for encoding and decoding JSON data. Only is necesary `import json`\n"
   ]
  },
  {
   "cell_type": "markdown",
   "metadata": {},
   "source": [
    "## Serialization JSON\n",
    "\n",
    "The `json` library exposes the `dump()` method for writing data to files. There is also a `dumps()` method for writings to a Python string.\n",
    "\n",
    "Simple Python objects are translated to JSON according to a fairly intuitive conversion.\n",
    "\n",
    "|Python|JSON|\n",
    "|:-----:|:----:|\n",
    "|dict|object|\n",
    "|list,tuple|array|\n",
    "|str|string|\n",
    "|int,long,float|number|\n",
    "|True|true|\n",
    "|False|false|\n",
    "|None|null|"
   ]
  },
  {
   "cell_type": "code",
   "execution_count": null,
   "metadata": {},
   "outputs": [],
   "source": [
    "import json\n",
    "\n",
    "cars = {\n",
    "    \"verso\" : {\n",
    "        \"brand\" : \"Toyota\",\n",
    "        \"cv\" : \"120CV\"\n",
    "    },\n",
    "    \"leon\" : {\n",
    "        \"band\" : \"Seat\",\n",
    "        \"cv\" : \"100CV\"\n",
    "    }\n",
    "}\n",
    "\n",
    "json.dumps(cars)\n",
    "\n",
    "#json.dumps(cars, indent= 4)\n",
    "\n",
    "#with open(\"data_file.json\", \"w\") as fsave:\n",
    "#    json.dump(cars, fsave)"
   ]
  },
  {
   "cell_type": "markdown",
   "metadata": {},
   "source": [
    "## Deserializing JSON\n",
    "\n",
    "The `json` library exposes the `load()` and `loads()` for turning JSON encoded data into Python objects.\n",
    "\n",
    "Simple Python objects are translated to JSON according to a fairly intuitive conversion.\n",
    "\n",
    "|JSON|Python|\n",
    "|:-----:|:----:|\n",
    "|object|dict|\n",
    "|array|list|\n",
    "|string|str|\n",
    "|number(int)|int|\n",
    "|number(real)|float|\n",
    "|true|True|\n",
    "|false|False|\n",
    "|null|None|\n",
    "\n",
    "Technically, this conversion isn´t a perfect inverse to the serialization table. That basically means that if you encode an object now and then decode it again later, you may not get exactly the same object back."
   ]
  },
  {
   "cell_type": "code",
   "execution_count": null,
   "metadata": {},
   "outputs": [],
   "source": [
    "import json\n",
    "\n",
    "data = '''{\n",
    "    \"name\" : \"Chuck\",\n",
    "    \"phone\" : {\n",
    "        \"type\" : \"intl\",\n",
    "        \"number\" : \"+34 787 878 787\"\n",
    "    },\n",
    "    \"email\" : {\n",
    "        \"professional\" : \"contact@company.com\"\n",
    "    }\n",
    "}'''\n",
    "\n",
    "info = json.loads(data)\n",
    "print(type(info))\n",
    "print('Name: ', info[\"name\"])\n",
    "print('Professional: ', info[\"email\"][\"professional\"])"
   ]
  },
  {
   "cell_type": "code",
   "execution_count": null,
   "metadata": {},
   "outputs": [],
   "source": [
    "import json\n",
    "input = '''[\n",
    "  { \"id\" : \"001\",\n",
    "    \"x\" : \"2\",\n",
    "    \"name\" : \"Chuck\"\n",
    "  } ,\n",
    "  { \"id\" : \"009\",\n",
    "    \"x\" : \"7\",\n",
    "    \"name\" : \"Chuck\"\n",
    "  }\n",
    "]'''\n",
    "\n",
    "info = json.loads(input)\n",
    "print(type(info))\n",
    "print('User count:', len(info))\n",
    "for item in info:\n",
    "    print('Name', item['name'])\n",
    "    print('Id', item['id'])\n",
    "    print('Attribute', item['x'])\n"
   ]
  },
  {
   "cell_type": "markdown",
   "metadata": {},
   "source": [
    "With the `urllib` library we can obtain the json content of a resource, but in text mode."
   ]
  },
  {
   "cell_type": "code",
   "execution_count": null,
   "metadata": {},
   "outputs": [],
   "source": [
    "import urllib.request\n",
    "\n",
    "response = urllib.request.urlopen('https://jsonplaceholder.typicode.com/users')\n",
    "for line in response:\n",
    "    print(line.decode().strip())"
   ]
  },
  {
   "cell_type": "markdown",
   "metadata": {},
   "source": [
    "With the `urllib` and `json` library, we can obtain a full json object"
   ]
  },
  {
   "cell_type": "code",
   "execution_count": null,
   "metadata": {},
   "outputs": [],
   "source": [
    "import urllib.request, json\n",
    "\n",
    "url = \"https://jsonplaceholder.typicode.com/users\"\n",
    "\n",
    "with urllib.request.urlopen(url) as response:\n",
    "    data = json.loads(response.read().decode())\n",
    "\n",
    "print(data)"
   ]
  },
  {
   "cell_type": "markdown",
   "metadata": {},
   "source": [
    "## Requests : HTTP for Humans &trade;\n",
    "\n",
    "Requests is an elegant and simple HTTP library for Python. [Reference](https://requests.readthedocs.io/en/master/)"
   ]
  },
  {
   "cell_type": "code",
   "execution_count": null,
   "metadata": {},
   "outputs": [],
   "source": [
    "import sys\n",
    "!{sys.executable} -m pip install requests"
   ]
  },
  {
   "cell_type": "code",
   "execution_count": null,
   "metadata": {},
   "outputs": [],
   "source": [
    "import requests\n",
    "\n",
    "r = requests.get('https://jsonplaceholder.typicode.com/users')\n",
    "print(r.json())"
   ]
  },
  {
   "attachments": {},
   "cell_type": "markdown",
   "metadata": {},
   "source": [
    "# API\n",
    "\n",
    "The API itself is largely abstract in that it specifies an interface and controls the behavior of the objects specified in that interface. The software that provides the functionality described by an API is said to be an “implementation” of the API.  An API is typically defined in terms of the programming language used to build an application."
   ]
  },
  {
   "cell_type": "code",
   "execution_count": 1,
   "metadata": {},
   "outputs": [
    {
     "name": "stdout",
     "output_type": "stream",
     "text": [
      "{'current_user_url': 'https://api.github.com/user', 'current_user_authorizations_html_url': 'https://github.com/settings/connections/applications{/client_id}', 'authorizations_url': 'https://api.github.com/authorizations', 'code_search_url': 'https://api.github.com/search/code?q={query}{&page,per_page,sort,order}', 'commit_search_url': 'https://api.github.com/search/commits?q={query}{&page,per_page,sort,order}', 'emails_url': 'https://api.github.com/user/emails', 'emojis_url': 'https://api.github.com/emojis', 'events_url': 'https://api.github.com/events', 'feeds_url': 'https://api.github.com/feeds', 'followers_url': 'https://api.github.com/user/followers', 'following_url': 'https://api.github.com/user/following{/target}', 'gists_url': 'https://api.github.com/gists{/gist_id}', 'hub_url': 'https://api.github.com/hub', 'issue_search_url': 'https://api.github.com/search/issues?q={query}{&page,per_page,sort,order}', 'issues_url': 'https://api.github.com/issues', 'keys_url': 'https://api.github.com/user/keys', 'label_search_url': 'https://api.github.com/search/labels?q={query}&repository_id={repository_id}{&page,per_page}', 'notifications_url': 'https://api.github.com/notifications', 'organization_url': 'https://api.github.com/orgs/{org}', 'organization_repositories_url': 'https://api.github.com/orgs/{org}/repos{?type,page,per_page,sort}', 'organization_teams_url': 'https://api.github.com/orgs/{org}/teams', 'public_gists_url': 'https://api.github.com/gists/public', 'rate_limit_url': 'https://api.github.com/rate_limit', 'repository_url': 'https://api.github.com/repos/{owner}/{repo}', 'repository_search_url': 'https://api.github.com/search/repositories?q={query}{&page,per_page,sort,order}', 'current_user_repositories_url': 'https://api.github.com/user/repos{?type,page,per_page,sort}', 'starred_url': 'https://api.github.com/user/starred{/owner}{/repo}', 'starred_gists_url': 'https://api.github.com/gists/starred', 'topic_search_url': 'https://api.github.com/search/topics?q={query}{&page,per_page}', 'user_url': 'https://api.github.com/users/{user}', 'user_organizations_url': 'https://api.github.com/user/orgs', 'user_repositories_url': 'https://api.github.com/users/{user}/repos{?type,page,per_page,sort}', 'user_search_url': 'https://api.github.com/search/users?q={query}{&page,per_page,sort,order}'}\n"
     ]
    }
   ],
   "source": [
    "import requests\n",
    "\n",
    "response = requests.get('https://api.github.com')\n",
    "print(response.json())"
   ]
  }
 ],
 "metadata": {
  "file_extension": ".py",
  "kernelspec": {
   "display_name": "Python 3",
   "language": "python",
   "name": "python3"
  },
  "language_info": {
   "codemirror_mode": {
    "name": "ipython",
    "version": 3
   },
   "file_extension": ".py",
   "mimetype": "text/x-python",
   "name": "python",
   "nbconvert_exporter": "python",
   "pygments_lexer": "ipython3",
   "version": "3.11.3"
  },
  "mimetype": "text/x-python",
  "name": "python",
  "npconvert_exporter": "python",
  "orig_nbformat": 2,
  "pygments_lexer": "ipython3",
  "version": 3
 },
 "nbformat": 4,
 "nbformat_minor": 2
}
