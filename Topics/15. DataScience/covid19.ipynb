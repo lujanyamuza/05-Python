{
 "cells": [
  {
   "cell_type": "markdown",
   "metadata": {},
   "source": [
    "# Análisis de datos de COVID-19 con Python\n",
    "\n",
    "Este notebook simplemente quiere describir algunas formas de análisis de datos, y para ello se ha basado en datos públicos sobre la pandemia de COVID-19. Su objetivo es simplemente académico, y no es un análisis real.\n",
    "\n",
    "Para poder realizar el análisis simple de los datos, en primer lugar hay que realizar las importaciones de librerias necesarias.\n",
    "\n",
    "> Aquí se realiza la importación general que se utiliza en el resto del notebook, pero en otras celdas se realizan importaciones adicionales"
   ]
  },
  {
   "cell_type": "code",
   "execution_count": null,
   "metadata": {},
   "outputs": [],
   "source": [
    "import requests\n",
    "import matplotlib.pyplot as plt"
   ]
  },
  {
   "cell_type": "markdown",
   "metadata": {},
   "source": [
    "Se realiza la carga de los datos desde una fuente pública, que está filtrada y devuelve la información en formato JSON.\n",
    "\n",
    "[COVID19 API](https://pomber.github.io/covid19/timeseries.json)\n",
    "\n",
    "La información que devuelve esta fuente es del mundo entero, indicando el nombre de cada país, y la información por fechas.\n",
    "\n",
    "``` JSON\n",
    "{\n",
    "  \"Spain\": [\n",
    "    {\n",
    "      \"date\": \"2020-1-22\",\n",
    "      \"confirmed\": 2,\n",
    "      \"deaths\": 0,\n",
    "      \"recovered\": 0\n",
    "    },\n",
    "    {\n",
    "      \"date\": \"2020-1-23\",\n",
    "      \"confirmed\": 3,\n",
    "      \"deaths\": 0,\n",
    "      \"recovered\": 0\n",
    "    },\n",
    "    ...\n",
    "  ],\n",
    "  ...\n",
    "}\n",
    "```"
   ]
  },
  {
   "cell_type": "code",
   "execution_count": null,
   "metadata": {
    "tags": [
     "outputPrepend"
    ]
   },
   "outputs": [],
   "source": [
    "response = requests.get(\"https://pomber.github.io/covid19/timeseries.json\")\n",
    "data = response.json()\n",
    "\n",
    "print(data)"
   ]
  },
  {
   "cell_type": "markdown",
   "metadata": {},
   "source": [
    "Los datos que se obtienen contienen la información de cada uno de los países, si se quiere estudiar los casos de España solamente, es necesario filtrarlos."
   ]
  },
  {
   "cell_type": "code",
   "execution_count": null,
   "metadata": {},
   "outputs": [],
   "source": [
    "#spain = list(v for k,v in data.items() if k == \"Spain\")\n",
    "spain = None\n",
    "for k,v in data.items():\n",
    "    if k == \"Spain\":\n",
    "        spain = v\n",
    "        break;\n",
    "\n",
    "assert(not spain is None)"
   ]
  },
  {
   "cell_type": "markdown",
   "metadata": {},
   "source": [
    "Con los datos de España en una lista de elementos, se van a dividir en varias listas individuales de información, para poder realizar una representación gráfica de los mismos.\n",
    "\n",
    "En este bloque se va a aprovechar en filtrar los datos que no contienen información relevante, para reducir la cantidad de los mismos."
   ]
  },
  {
   "cell_type": "code",
   "execution_count": null,
   "metadata": {
    "tags": [
     "outputPrepend"
    ]
   },
   "outputs": [],
   "source": [
    "import datetime as dt\n",
    "\n",
    "dates = list()\n",
    "confirmed = list()\n",
    "deaths = list()\n",
    "recovered = list()\n",
    "hasdata = False\n",
    "for item in spain:\n",
    "    if item['confirmed'] == 0 and item['deaths'] == 0 and item['recovered'] == 0:\n",
    "        if hasdata == False:\n",
    "            continue \n",
    "\n",
    "    hasdata = True\n",
    "    dates.append(dt.datetime.strptime(item['date'], '%Y-%m-%d'))\n",
    "    #dates.append(item['date'])\n",
    "    confirmed.append(item['confirmed'])\n",
    "    deaths.append(item['deaths'])\n",
    "    recovered.append(item['recovered'])\n",
    "\n",
    "print(dates)"
   ]
  },
  {
   "cell_type": "markdown",
   "metadata": {},
   "source": [
    "Una vez con los datos filtrados, sólo es necesario empezar a mostrarlos de las distintas formas deseadas.\n",
    "\n",
    "Tal y como se ha indicado anteriormente, el objetivo de este notebook es simplemente mostrar distintas fases de una análisis de datos real, pero no se tiene ningún objetivo claro de obtención de información.\n",
    "\n",
    "Para poder mostrar los gráficos se utiliza una libreria muy común en Python [mathplotlib](https://matplotlib.org/). Es una libreria muy amplia y completa, aquí solo vamos a mostrar un ejemplo práctico de uso."
   ]
  },
  {
   "cell_type": "code",
   "execution_count": null,
   "metadata": {},
   "outputs": [],
   "source": [
    "import matplotlib.dates as mdates\n",
    "\n",
    "fig, axs = plt.subplots(3,1)\n",
    "axs[0].plot(dates, confirmed)\n",
    "axs[0].set_xlabel('Fechas')\n",
    "axs[0].set_ylabel('Confirmados')\n",
    "\n",
    "axs[1].plot(dates, deaths)\n",
    "axs[1].set_xlabel('Fechas')\n",
    "axs[1].set_ylabel('Muertes')\n",
    "\n",
    "axs[2].plot(dates, recovered)\n",
    "axs[2].set_xlabel('Fechas')\n",
    "axs[2].set_ylabel('Curados')\n",
    "\n",
    "fig.autofmt_xdate()\n",
    "axs[0].fmt_xdata = mdates.DateFormatter('%d-%m')\n",
    "plt.show()"
   ]
  },
  {
   "cell_type": "markdown",
   "metadata": {},
   "source": [
    "Tambien es posible mostrar las tres series de datos en una misma gráfica, aunque la escala de cada conjunto de datos puede afectar al resultado final."
   ]
  },
  {
   "cell_type": "code",
   "execution_count": null,
   "metadata": {},
   "outputs": [],
   "source": [
    "import matplotlib.dates as mdates\n",
    "\n",
    "fig, ax = plt.subplots(1)\n",
    "ax.plot(dates, confirmed, dates, deaths, dates, recovered)\n",
    "fig.autofmt_xdate()\n",
    "ax.fmt_xdata = mdates.DateFormatter('%d-%m')\n",
    "plt.show()"
   ]
  },
  {
   "cell_type": "markdown",
   "metadata": {},
   "source": [
    "## Otras librerias útiles\n",
    "\n",
    "Todas las operaciones de filtrado y tratamiento de la información, es posible realizarlas de una forma más sencilla con librerias de tratamiento de información. Una de las más conocidas es [pandas](https://pandas.pydata.org/). Esta libreria reduce significativamente el código."
   ]
  },
  {
   "cell_type": "code",
   "execution_count": null,
   "metadata": {},
   "outputs": [],
   "source": [
    "import sys\n",
    "!{sys.executable} -m pip install pandas"
   ]
  },
  {
   "cell_type": "code",
   "execution_count": null,
   "metadata": {},
   "outputs": [],
   "source": [
    "import pandas as pd\n",
    "response = requests.get(\"https://pomber.github.io/covid19/timeseries.json\")\n",
    "data = response.json()\n",
    "\n",
    "df = pd.DataFrame(data['Spain'])\n",
    "print(df)"
   ]
  },
  {
   "cell_type": "code",
   "execution_count": null,
   "metadata": {},
   "outputs": [],
   "source": [
    "df.plot(x='date', y='confirmed')"
   ]
  },
  {
   "cell_type": "code",
   "execution_count": null,
   "metadata": {},
   "outputs": [],
   "source": [
    "plt.plot('date', 'confirmed', data = df, label='Confirmados')\n",
    "plt.plot('date', 'deaths', data = df, label='Muertes')\n",
    "plt.plot('date', 'recovered', data = df, label='Curados')\n",
    "plt.legend()\n",
    "plt.show()"
   ]
  },
  {
   "cell_type": "markdown",
   "metadata": {},
   "source": [
    "Referencia adicional:\n",
    "Para un ejemplo de análisis más completo, aunque con datos de India, utilizar la siguiente referencia:\n",
    "https://towardsdatascience.com/tracking-corona-covid-19-spread-in-india-using-python-40ef8ffa7e31\n"
   ]
  }
 ],
 "metadata": {
  "file_extension": ".py",
  "kernelspec": {
   "display_name": "Python 3.8.1 64-bit ('.venv': venv)",
   "name": "python38164bitvenvvenv8c0af48c7df64b369b6dbbea30b6b8d4"
  },
  "language_info": {
   "codemirror_mode": {
    "name": "ipython",
    "version": 3
   },
   "name": "python",
   "version": "3.8.1-final"
  },
  "mimetype": "text/x-python",
  "name": "python",
  "npconvert_exporter": "python",
  "orig_nbformat": 2,
  "pygments_lexer": "ipython3",
  "version": 3
 },
 "nbformat": 4,
 "nbformat_minor": 2
}
