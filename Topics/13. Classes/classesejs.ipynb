{
 "cells": [
  {
   "attachments": {},
   "cell_type": "markdown",
   "metadata": {},
   "source": [
<<<<<<< HEAD
    "#1.-\n",
=======
    "#1.- \n",
>>>>>>> bcb8f3a7925d87dd3ff34b75b6fce306fa717ddc
    "Create a class called “Rectangle” with two instance attributes called “width” and “height”. Create a method called “area” that returns the area of the rectangle."
   ]
  },
  {
   "cell_type": "code",
<<<<<<< HEAD
   "execution_count": null,
   "metadata": {},
   "outputs": [],
   "source": []
  },
  {
   "cell_type": "code",
   "execution_count": null,
   "metadata": {},
   "outputs": [],
   "source": []
  }
 ],
 "metadata": {
  "language_info": {
   "name": "python"
=======
   "execution_count": 16,
   "metadata": {},
   "outputs": [
    {
     "name": "stdout",
     "output_type": "stream",
     "text": [
      "50\n"
     ]
    }
   ],
   "source": [
    "class Rectangle:\n",
    "    def __init__(self, width=0, height=0):\n",
    "        self.width = width\n",
    "        self.height = height\n",
    "        \n",
    "    def area(self):\n",
    "        return self.width * self.height\n",
    "\n",
    "\n",
    "result = Rectangle(5, 10)\n",
    "print(result.area())"
   ]
  },
  {
   "attachments": {},
   "cell_type": "markdown",
   "metadata": {},
   "source": [
    "2. Create a class called “Circle” with an instance attribute called “radius”. Create a method called “area” that returns the area of the circle."
   ]
  },
  {
   "cell_type": "code",
   "execution_count": 21,
   "metadata": {},
   "outputs": [
    {
     "name": "stdout",
     "output_type": "stream",
     "text": [
      "13.6722432\n"
     ]
    }
   ],
   "source": [
    "class Circle:\n",
    "    def __init__(self, r):\n",
    "        self.radius = r\n",
    "    def area(self):\n",
    "        return self.radius * 3.1416\n",
    "    \n",
    "result = Circle(4.3520)\n",
    "print(result.area())"
   ]
  },
  {
   "attachments": {},
   "cell_type": "markdown",
   "metadata": {},
   "source": [
    "3. Creates a class called “BankAccount” that has an attribute called “balance” and two methods called “deposit” and “withdraw”. The “deposit” method takes an argument called “amount” and adds it to the balance. The “withdraw” method takes an argument called “amount” and subtracts it from the balance if there are sufficient funds. If there are not sufficient funds, it prints a message saying so."
   ]
  },
  {
   "cell_type": "code",
   "execution_count": 29,
   "metadata": {},
   "outputs": [
    {
     "ename": "TypeError",
     "evalue": "BankAccount.deposit() missing 1 required positional argument: 'amount'",
     "output_type": "error",
     "traceback": [
      "\u001b[1;31m---------------------------------------------------------------------------\u001b[0m",
      "\u001b[1;31mTypeError\u001b[0m                                 Traceback (most recent call last)",
      "Cell \u001b[1;32mIn[29], line 16\u001b[0m\n\u001b[0;32m     12\u001b[0m             \u001b[39mprint\u001b[39m (\u001b[39m\"\u001b[39m\u001b[39mERROR\u001b[39m\u001b[39m\"\u001b[39m)\n\u001b[0;32m     15\u001b[0m operation \u001b[39m=\u001b[39m BankAccount(\u001b[39m350\u001b[39m)\n\u001b[1;32m---> 16\u001b[0m \u001b[39mprint\u001b[39m(BankAccount\u001b[39m.\u001b[39;49mdeposit(\u001b[39m10\u001b[39;49m))\n",
      "\u001b[1;31mTypeError\u001b[0m: BankAccount.deposit() missing 1 required positional argument: 'amount'"
     ]
    }
   ],
   "source": [
    "class BankAccount:\n",
    "    def __init__(self, balance):\n",
    "        self.balance = balance\n",
    "    def deposit(self, amount):\n",
    "        self.balance += amount\n",
    "    def withdraw(self, amount): \n",
    "        self.amount = amount\n",
    "        if amount <= self.balance:\n",
    "            return self.balance - self.amount\n",
    "        else:\n",
    "            print (\"ERROR\")\n",
    "\n",
    "\n",
    "operation = BankAccount(350)\n",
    "print(BankAccount.deposit(10))\n",
    "\n"
   ]
  }
 ],
 "metadata": {
  "kernelspec": {
   "display_name": "Python 3",
   "language": "python",
   "name": "python3"
  },
  "language_info": {
   "codemirror_mode": {
    "name": "ipython",
    "version": 3
   },
   "file_extension": ".py",
   "mimetype": "text/x-python",
   "name": "python",
   "nbconvert_exporter": "python",
   "pygments_lexer": "ipython3",
   "version": "3.11.3"
>>>>>>> bcb8f3a7925d87dd3ff34b75b6fce306fa717ddc
  },
  "orig_nbformat": 4
 },
 "nbformat": 4,
 "nbformat_minor": 2
}
