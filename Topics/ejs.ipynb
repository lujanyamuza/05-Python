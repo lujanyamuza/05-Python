{
 "cells": [
  {
   "cell_type": "code",
   "execution_count": 1,
   "metadata": {},
   "outputs": [
    {
     "name": "stdout",
     "output_type": "stream",
     "text": [
      "Se te deben: 415.0 €\n"
     ]
    }
   ],
   "source": [
    "qhours = input(\"¿Cuántas horas has trabajado?\")\n",
    "hour = float(qhours)   \n",
    "'''\n",
    "if hours == float():\n",
    "    continue\n",
    "else:\n",
    "    break\n",
    "'''\n",
    "\n",
    "qrate = input(\"¿A cuanto la hora?\")\n",
    "rate = float(qrate)\n",
    "\n",
    "\n",
    "\n",
    "if hour > 40:\n",
    "    result = (hour - 40) * rate * 1.5 + 40 * rate\n",
    "else:\n",
    "    result = hour * rate\n",
    "\n",
    "print(\"Se te deben:\", result, \"€\")"
   ]
  }
 ],
 "metadata": {
  "kernelspec": {
   "display_name": "Python 3",
   "language": "python",
   "name": "python3"
  },
  "language_info": {
   "codemirror_mode": {
    "name": "ipython",
    "version": 3
   },
   "file_extension": ".py",
   "mimetype": "text/x-python",
   "name": "python",
   "nbconvert_exporter": "python",
   "pygments_lexer": "ipython3",
   "version": "3.11.3"
  },
  "orig_nbformat": 4
 },
 "nbformat": 4,
 "nbformat_minor": 2
}
